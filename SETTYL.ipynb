{
 "cells": [
  {
   "cell_type": "code",
   "execution_count": 7,
   "id": "ef5a8a1f-0e24-4c85-83fb-cf2278df2a7c",
   "metadata": {},
   "outputs": [
    {
     "name": "stdout",
     "output_type": "stream",
     "text": [
      "Epoch 1/10\n"
     ]
    },
    {
     "name": "stderr",
     "output_type": "stream",
     "text": [
      "C:\\Users\\saksham tyagi\\AppData\\Roaming\\Python\\Python312\\site-packages\\keras\\src\\layers\\core\\dense.py:85: UserWarning: Do not pass an `input_shape`/`input_dim` argument to a layer. When using Sequential models, prefer using an `Input(shape)` object as the first layer in the model instead.\n",
      "  super().__init__(activity_regularizer=activity_regularizer, **kwargs)\n"
     ]
    },
    {
     "name": "stdout",
     "output_type": "stream",
     "text": [
      "\u001b[1m31/31\u001b[0m \u001b[32m━━━━━━━━━━━━━━━━━━━━\u001b[0m\u001b[37m\u001b[0m \u001b[1m2s\u001b[0m 10ms/step - accuracy: 0.2450 - loss: 2.6404 - val_accuracy: 0.4449 - val_loss: 2.3766\n",
      "Epoch 2/10\n",
      "\u001b[1m31/31\u001b[0m \u001b[32m━━━━━━━━━━━━━━━━━━━━\u001b[0m\u001b[37m\u001b[0m \u001b[1m0s\u001b[0m 3ms/step - accuracy: 0.4932 - loss: 2.1899 - val_accuracy: 0.5673 - val_loss: 1.8193\n",
      "Epoch 3/10\n",
      "\u001b[1m31/31\u001b[0m \u001b[32m━━━━━━━━━━━━━━━━━━━━\u001b[0m\u001b[37m\u001b[0m \u001b[1m0s\u001b[0m 3ms/step - accuracy: 0.6113 - loss: 1.5868 - val_accuracy: 0.6163 - val_loss: 1.3220\n",
      "Epoch 4/10\n",
      "\u001b[1m31/31\u001b[0m \u001b[32m━━━━━━━━━━━━━━━━━━━━\u001b[0m\u001b[37m\u001b[0m \u001b[1m0s\u001b[0m 4ms/step - accuracy: 0.8041 - loss: 1.0505 - val_accuracy: 0.8082 - val_loss: 0.9079\n",
      "Epoch 5/10\n",
      "\u001b[1m31/31\u001b[0m \u001b[32m━━━━━━━━━━━━━━━━━━━━\u001b[0m\u001b[37m\u001b[0m \u001b[1m0s\u001b[0m 3ms/step - accuracy: 0.8608 - loss: 0.6575 - val_accuracy: 0.8327 - val_loss: 0.6372\n",
      "Epoch 6/10\n",
      "\u001b[1m31/31\u001b[0m \u001b[32m━━━━━━━━━━━━━━━━━━━━\u001b[0m\u001b[37m\u001b[0m \u001b[1m0s\u001b[0m 3ms/step - accuracy: 0.8825 - loss: 0.4548 - val_accuracy: 0.8327 - val_loss: 0.4796\n",
      "Epoch 7/10\n",
      "\u001b[1m31/31\u001b[0m \u001b[32m━━━━━━━━━━━━━━━━━━━━\u001b[0m\u001b[37m\u001b[0m \u001b[1m0s\u001b[0m 3ms/step - accuracy: 0.9093 - loss: 0.3829 - val_accuracy: 0.9102 - val_loss: 0.3775\n",
      "Epoch 8/10\n",
      "\u001b[1m31/31\u001b[0m \u001b[32m━━━━━━━━━━━━━━━━━━━━\u001b[0m\u001b[37m\u001b[0m \u001b[1m0s\u001b[0m 3ms/step - accuracy: 0.9625 - loss: 0.2415 - val_accuracy: 0.9184 - val_loss: 0.2996\n",
      "Epoch 9/10\n",
      "\u001b[1m31/31\u001b[0m \u001b[32m━━━━━━━━━━━━━━━━━━━━\u001b[0m\u001b[37m\u001b[0m \u001b[1m0s\u001b[0m 3ms/step - accuracy: 0.9566 - loss: 0.2006 - val_accuracy: 0.9347 - val_loss: 0.2269\n",
      "Epoch 10/10\n",
      "\u001b[1m31/31\u001b[0m \u001b[32m━━━━━━━━━━━━━━━━━━━━\u001b[0m\u001b[37m\u001b[0m \u001b[1m0s\u001b[0m 3ms/step - accuracy: 0.9763 - loss: 0.1231 - val_accuracy: 0.9837 - val_loss: 0.1705\n",
      "\u001b[1m8/8\u001b[0m \u001b[32m━━━━━━━━━━━━━━━━━━━━\u001b[0m\u001b[37m\u001b[0m \u001b[1m0s\u001b[0m 4ms/step - accuracy: 0.9845 - loss: 0.1932 \n",
      "Validation Accuracy: 0.9836734533309937\n"
     ]
    }
   ],
   "source": [
    "import pandas as pd\n",
    "import numpy as np\n",
    "from sklearn.model_selection import train_test_split\n",
    "from sklearn.feature_extraction.text import CountVectorizer\n",
    "from sklearn.preprocessing import LabelEncoder\n",
    "import tensorflow as tf\n",
    "from fastapi import FastAPI\n",
    "from pydantic import BaseModel\n",
    "\n",
    "import pandas as pd\n",
    "\n",
    "# Load the dataset\n",
    "dataset = pd.read_json('dataset.json')\n",
    "\n",
    "# Data preprocessing\n",
    "dataset.dropna(inplace=True)\n",
    "dataset['externalStatus'] = dataset['externalStatus'].str.lower()\n",
    "dataset.to_json('cleaned_dataset.json', index=False)\n",
    "\n",
    "\n",
    "# Split the dataset into features (external status descriptions) and labels (internal status labels)\n",
    "X = dataset['externalStatus']\n",
    "y = dataset['internalStatus']\n",
    "\n",
    "# Encode the internal status labels\n",
    "label_encoder = LabelEncoder()\n",
    "y_encoded = label_encoder.fit_transform(y)\n",
    "\n",
    "# Splitting\n",
    "X_train, X_val, y_train, y_val = train_test_split(X, y_encoded, test_size=0.2, random_state=42)\n",
    "\n",
    "# Tokenizing\n",
    "vectorizer = CountVectorizer()\n",
    "X_train_encoded = vectorizer.fit_transform(X_train)\n",
    "X_val_encoded = vectorizer.transform(X_val)\n",
    "\n",
    "# Define the model architecture\n",
    "model = tf.keras.Sequential([\n",
    "    tf.keras.layers.Dense(64, activation='relu', input_shape=(X_train_encoded.shape[1],)),\n",
    "    tf.keras.layers.Dense(32, activation='relu'),\n",
    "    tf.keras.layers.Dense(len(label_encoder.classes_), activation='softmax')  # Output layer with softmax activation for multi-class classification\n",
    "])\n",
    "\n",
    "model.compile(optimizer='adam',\n",
    "              loss='sparse_categorical_crossentropy',  # Since labels are encoded as integers\n",
    "              metrics=['accuracy'])\n",
    "\n",
    "# Train the model\n",
    "X_train_encoded_dense = X_train_encoded.toarray()\n",
    "X_val_encoded_dense = X_val_encoded.toarray()\n",
    "\n",
    "history = model.fit(X_train_encoded_dense, y_train, epochs=10, batch_size=32, validation_data=(X_val_encoded_dense, y_val))\n",
    "\n",
    "\n",
    "#evaluating th e model\n",
    "X_val_encoded_dense = X_val_encoded.toarray()\n",
    "\n",
    "loss, accuracy = model.evaluate(X_val_encoded_dense, y_val)\n",
    "print(f'Validation Accuracy: {accuracy}')\n",
    "\n",
    "\n",
    "# FastAPI app\n",
    "app = FastAPI()\n",
    "\n",
    "class InputData(BaseModel):\n",
    "    externalStatus: str\n",
    "\n",
    "# accept external status descriptions and return predicted internal status labels\n",
    "@app.post(\"/predict\")\n",
    "def predict_internal_status(data: InputData):\n",
    "  \n",
    "    input_text = [data.externalStatus]\n",
    "    input_encoded = vectorizer.transform(input_text)\n",
    "\n",
    "    # prediction\n",
    "    prediction = model.predict(input_encoded)\n",
    "    predicted_label_index = np.argmax(prediction)\n",
    "    predicted_label = label_encoder.inverse_transform([predicted_label_index])[0]\n",
    "\n",
    "    return {\"predictedInternalStatus\": predicted_label}\n"
   ]
  },
  {
   "cell_type": "code",
   "execution_count": null,
   "id": "e02593b2-2adf-4fa8-9533-a53367e18e76",
   "metadata": {},
   "outputs": [],
   "source": []
  }
 ],
 "metadata": {
  "kernelspec": {
   "display_name": "Python 3 (ipykernel)",
   "language": "python",
   "name": "python3"
  },
  "language_info": {
   "codemirror_mode": {
    "name": "ipython",
    "version": 3
   },
   "file_extension": ".py",
   "mimetype": "text/x-python",
   "name": "python",
   "nbconvert_exporter": "python",
   "pygments_lexer": "ipython3",
   "version": "3.12.1"
  }
 },
 "nbformat": 4,
 "nbformat_minor": 5
}
